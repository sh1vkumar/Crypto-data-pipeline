{
 "cells": [
  {
   "cell_type": "code",
   "execution_count": 56,
   "metadata": {},
   "outputs": [],
   "source": [
    "import requests\n",
    "import pyspark.sql as ps\n",
    "from dotenv import load_dotenv\n",
    "import os\n",
    "import psycopg\n",
    "import logging\n",
    "import json"
   ]
  },
  {
   "cell_type": "code",
   "execution_count": 33,
   "metadata": {},
   "outputs": [
    {
     "data": {
      "text/plain": [
       "True"
      ]
     },
     "execution_count": 33,
     "metadata": {},
     "output_type": "execute_result"
    }
   ],
   "source": [
    "load_dotenv()"
   ]
  },
  {
   "cell_type": "code",
   "execution_count": 62,
   "metadata": {},
   "outputs": [],
   "source": [
    "# Logging setup (write logs to file with timestamps)\n",
    "LOG_FILE = \"crypto_data.log\"\n",
    "logging.basicConfig(\n",
    "    level=logging.INFO,\n",
    "    format=\"%(asctime)s - %(levelname)s - %(message)s\",\n",
    "    handlers=[\n",
    "        logging.FileHandler(LOG_FILE),  # Write logs to a file\n",
    "        logging.StreamHandler()  # Also log to console\n",
    "    ],\n",
    ")"
   ]
  },
  {
   "cell_type": "code",
   "execution_count": 34,
   "metadata": {},
   "outputs": [],
   "source": [
    "API_KEY = os.getenv(\"API_KEY\")\n",
    "\n",
    "DB_PARAMS = {\n",
    "    \"dbname\": os.getenv(\"DB_NAME\"),\n",
    "    \"user\": os.getenv(\"DB_USER\"),\n",
    "    \"password\": os.getenv(\"DB_PASSWORD\"),\n",
    "    \"host\": os.getenv(\"DB_HOST\"),\n",
    "    \"port\": os.getenv(\"DB_PORT\"),\n",
    "}"
   ]
  },
  {
   "cell_type": "code",
   "execution_count": 42,
   "metadata": {},
   "outputs": [],
   "source": [
    "# Fetch data from the API\n",
    "\n",
    "def fetch_data(API_KEY,CURRENCY):\n",
    "\n",
    "    headers = {\n",
    "    \"accept\": \"application/json\",\n",
    "    \"x-cg-pro-api-key\": API_KEY\n",
    "    }\n",
    "    url = f\"https://api.coingecko.com/api/v3/coins/markets?vs_currency={CURRENCY}\"\n",
    "    response = requests.get(url, headers=headers)\n",
    "\n",
    "    if response.status_code == 200:\n",
    "        return response.json()\n",
    "    else:\n",
    "        raise Exception(f\"Failed to fetch data: {response.status_code}\")"
   ]
  },
  {
   "cell_type": "code",
   "execution_count": 43,
   "metadata": {},
   "outputs": [],
   "source": [
    "CURRENCY = \"usd\"\n",
    "crypto_data = fetch_data(API_KEY,CURRENCY)"
   ]
  },
  {
   "cell_type": "code",
   "execution_count": 49,
   "metadata": {},
   "outputs": [
    {
     "data": {
      "text/plain": [
       "{'id': 'bitcoin',\n",
       " 'symbol': 'btc',\n",
       " 'name': 'Bitcoin',\n",
       " 'image': 'https://coin-images.coingecko.com/coins/images/1/large/bitcoin.png?1696501400',\n",
       " 'current_price': 96734,\n",
       " 'market_cap': 1920858747880,\n",
       " 'market_cap_rank': 1,\n",
       " 'fully_diluted_valuation': 1920860198757,\n",
       " 'total_volume': 30636770766,\n",
       " 'high_24h': 97341,\n",
       " 'low_24h': 95368,\n",
       " 'price_change_24h': 1365.92,\n",
       " 'price_change_percentage_24h': 1.43227,\n",
       " 'market_cap_change_24h': 28531166050,\n",
       " 'market_cap_change_percentage_24h': 1.50773,\n",
       " 'circulating_supply': 19858953.0,\n",
       " 'total_supply': 19858968.0,\n",
       " 'max_supply': 21000000.0,\n",
       " 'ath': 108786,\n",
       " 'ath_change_percentage': -11.06318,\n",
       " 'ath_date': '2025-01-20T09:11:54.494Z',\n",
       " 'atl': 67.81,\n",
       " 'atl_change_percentage': 142580.75464,\n",
       " 'atl_date': '2013-07-06T00:00:00.000Z',\n",
       " 'roi': None,\n",
       " 'last_updated': '2025-05-02T09:31:25.267Z'}"
      ]
     },
     "execution_count": 49,
     "metadata": {},
     "output_type": "execute_result"
    }
   ],
   "source": [
    "crypto_data[0]"
   ]
  },
  {
   "cell_type": "code",
   "execution_count": 63,
   "metadata": {},
   "outputs": [],
   "source": [
    "# Insert Crypto data into PostgreSQL\n",
    "def insert_crypto_data(crypto_data):\n",
    "    \"\"\"Insert holiday data into PostgreSQL with batch processing.\n",
    "    \n",
    "    - If a holiday has no subdivisions, insert it for all subdivisions in the country.\n",
    "    - If a holiday has specific subdivisions, insert it only for those subdivisions.\n",
    "    \"\"\"\n",
    "    if not crypto_data:\n",
    "        logging.info(f\"No data to insert for {CURRENCY}.\")\n",
    "        return\n",
    "\n",
    "    try:\n",
    "        with psycopg.connect(**DB_PARAMS) as conn:\n",
    "            with conn.cursor() as cur:\n",
    "                insert_query = \"\"\"\n",
    "                    INSERT INTO crypto_data (\n",
    "                        id, symbol, name, image, current_price, market_cap, market_cap_rank, \n",
    "                        fully_diluted_valuation, total_volume, high_24h, low_24h, \n",
    "                        price_change_24h, price_change_percentage_24h, \n",
    "                        market_cap_change_24h, market_cap_change_percentage_24h, \n",
    "                        circulating_supply, total_supply, max_supply, \n",
    "                        ath, ath_change_percentage, ath_date, \n",
    "                        atl, atl_change_percentage, atl_date, \n",
    "                        roi, last_updated\n",
    "                    ) \n",
    "                    VALUES (%s, %s, %s, %s, %s, %s, %s, %s, %s, %s, %s, %s, %s, %s, %s, %s, %s, %s, %s, %s, %s, %s, %s, %s, %s, %s)\n",
    "                    ON CONFLICT (id) DO UPDATE;\n",
    "                    \"\"\"\n",
    "                values = []\n",
    "\n",
    "                for crypto in crypto_data:\n",
    "                    id_ = crypto.get(\"id\")\n",
    "                    symbol = crypto.get(\"symbol\")\n",
    "                    name = crypto.get(\"name\")\n",
    "                    image = crypto.get(\"image\")\n",
    "                    current_price = crypto.get(\"current_price\")\n",
    "                    market_cap = crypto.get(\"market_cap\")\n",
    "                    market_cap_rank = crypto.get(\"market_cap_rank\")\n",
    "                    fully_diluted_valuation = crypto.get(\"fully_diluted_valuation\")\n",
    "                    total_volume = crypto.get(\"total_volume\")\n",
    "                    high_24h = crypto.get(\"high_24h\")\n",
    "                    low_24h = crypto.get(\"low_24h\")\n",
    "                    price_change_24h = crypto.get(\"price_change_24h\")\n",
    "                    price_change_percentage_24h = crypto.get(\"price_change_percentage_24h\")\n",
    "                    market_cap_change_24h = crypto.get(\"market_cap_change_24h\")\n",
    "                    market_cap_change_percentage_24h = crypto.get(\"market_cap_change_percentage_24h\")\n",
    "                    circulating_supply = crypto.get(\"circulating_supply\")\n",
    "                    total_supply = crypto.get(\"total_supply\")\n",
    "                    max_supply = crypto.get(\"max_supply\")\n",
    "                    ath = crypto.get(\"ath\")\n",
    "                    ath_change_percentage = crypto.get(\"ath_change_percentage\")\n",
    "                    ath_date = crypto.get(\"ath_date\")\n",
    "                    atl = crypto.get(\"atl\")\n",
    "                    atl_change_percentage = crypto.get(\"atl_change_percentage\")\n",
    "                    atl_date = crypto.get(\"atl_date\")\n",
    "                    roi = crypto.get(\"roi\")  # might be None or dict\n",
    "                    roi_json = json.dumps(roi) if roi else None\n",
    "                    last_updated = crypto.get(\"last_updated\")\n",
    "\n",
    "                    values.append((\n",
    "                        id_, symbol, name, image, current_price, market_cap, market_cap_rank,\n",
    "                        fully_diluted_valuation, total_volume, high_24h, low_24h,\n",
    "                        price_change_24h, price_change_percentage_24h,\n",
    "                        market_cap_change_24h, market_cap_change_percentage_24h,\n",
    "                        circulating_supply, total_supply, max_supply,\n",
    "                        ath, ath_change_percentage, ath_date,\n",
    "                        atl, atl_change_percentage, atl_date,\n",
    "                        roi_json, last_updated\n",
    "                    ))\n",
    "\n",
    "                # Ensure there is data to insert\n",
    "                if values:\n",
    "                    # print(f\"Values to be inserted: {values[0]}\")\n",
    "                    # cur.execute(insert_query, values[0])\n",
    "                    cur.executemany(insert_query, values)\n",
    "                    conn.commit()\n",
    "                    logging.info(f\"Inserted {len(values)} crypto records.\")\n",
    "                else:\n",
    "                    logging.info(\"No valid crypto data to insert.\")\n",
    "\n",
    "    except Exception as e:\n",
    "        logging.error(f\"Error inserting Crypto Data for {CURRENCY}: {e}\")"
   ]
  },
  {
   "cell_type": "code",
   "execution_count": 64,
   "metadata": {},
   "outputs": [],
   "source": [
    "insert_crypto_data(crypto_data)"
   ]
  }
 ],
 "metadata": {
  "kernelspec": {
   "display_name": "Python 3",
   "language": "python",
   "name": "python3"
  },
  "language_info": {
   "codemirror_mode": {
    "name": "ipython",
    "version": 3
   },
   "file_extension": ".py",
   "mimetype": "text/x-python",
   "name": "python",
   "nbconvert_exporter": "python",
   "pygments_lexer": "ipython3",
   "version": "3.12.2"
  }
 },
 "nbformat": 4,
 "nbformat_minor": 2
}
